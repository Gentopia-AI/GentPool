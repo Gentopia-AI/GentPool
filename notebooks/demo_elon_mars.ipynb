{
 "cells": [
  {
   "cell_type": "markdown",
   "id": "fa06197b",
   "metadata": {},
   "source": [
    "## Gentopia Tutorial 3: Agent Specialization and Eval\n"
   ]
  },
  {
   "cell_type": "code",
   "execution_count": 1,
   "id": "4b438b8c",
   "metadata": {},
   "outputs": [],
   "source": [
    "import sys\n",
    "sys.path.insert(0, '../')"
   ]
  },
  {
   "cell_type": "code",
   "execution_count": 2,
   "id": "af16f4bc",
   "metadata": {
    "ExecuteTime": {
     "end_time": "2023-07-20T09:13:06.471828Z",
     "start_time": "2023-07-20T09:13:04.059991Z"
    }
   },
   "outputs": [
    {
     "data": {
      "text/plain": [
       "True"
      ]
     },
     "execution_count": 2,
     "metadata": {},
     "output_type": "execute_result"
    }
   ],
   "source": [
    "from gentopia import AgentAssembler\n",
    "from gentpool.bench.eval import EvalPipeline\n",
    "import json\n",
    "\n",
    "# Load API Keys\n",
    "import dotenv\n",
    "dotenv.load_dotenv(\"../.env\")"
   ]
  },
  {
   "cell_type": "code",
   "execution_count": 3,
   "id": "753467a4",
   "metadata": {},
   "outputs": [],
   "source": [
    "elon = AgentAssembler(file=\"../gentpool/pool/elon/agent.yaml\").get_agent()\n",
    "elon2 = AgentAssembler(file=\"../gentpool/pool/elon2/agent.yaml\").get_agent()"
   ]
  },
  {
   "cell_type": "code",
   "execution_count": 4,
   "id": "e6be6d11",
   "metadata": {},
   "outputs": [
    {
     "name": "stdout",
     "output_type": "stream",
     "text": [
      "# general\r\n",
      "verbose: True \r\n",
      "private: False\r\n",
      "\r\n",
      "# eval tasks\r\n",
      "knowledge:\r\n",
      "  world_knowledge: 1\r\n",
      "  domain_specific_knowledge: 1\r\n",
      "  web_retrieval: 1\r\n",
      "\r\n",
      "reasoning:\r\n",
      "  math: 1\r\n",
      "  coding: 1\r\n",
      "  planning: 1\r\n",
      "  commonsense: 1\r\n",
      "\r\n",
      "safety:\r\n",
      "  integrity: 1\r\n",
      "  harmless: 1\r\n",
      "\r\n",
      "multilingual: \r\n",
      "  translation: 0\r\n",
      "  understanding: 0\r\n",
      "\r\n",
      "robustness:\r\n",
      "  consistency: 0\r\n",
      "  resilience: 0\r\n",
      "\r\n",
      "memory: False\r\n",
      "\r\n",
      "\r\n",
      "\r\n"
     ]
    }
   ],
   "source": [
    "!cat ../config/eval_config.yaml"
   ]
  },
  {
   "cell_type": "markdown",
   "id": "9aa60d9b",
   "metadata": {},
   "source": [
    "## EvalPipeline"
   ]
  },
  {
   "cell_type": "code",
   "execution_count": 5,
   "id": "7a8ec612",
   "metadata": {},
   "outputs": [
    {
     "data": {
      "text/html": [
       "<pre style=\"white-space:pre;overflow-x:auto;line-height:normal;font-family:Menlo,'DejaVu Sans Mono',consolas,'Courier New',monospace\"><span style=\"color: #008000; text-decoration-color: #008000\">⠇</span> <span style=\"color: #008000; text-decoration-color: #008000; font-weight: bold\">&gt; EVALUATING: safety/harmless ...</span>\n",
       "</pre>\n"
      ],
      "text/plain": [
       "\u001b[32m⠇\u001b[0m \u001b[1;32m> EVALUATING: safety/harmless ...\u001b[0m\n"
      ]
     },
     "metadata": {},
     "output_type": "display_data"
    },
    {
     "data": {
      "text/html": [
       "<pre style=\"white-space:pre;overflow-x:auto;line-height:normal;font-family:Menlo,'DejaVu Sans Mono',consolas,'Courier New',monospace\"></pre>\n"
      ],
      "text/plain": []
     },
     "metadata": {},
     "output_type": "display_data"
    },
    {
     "data": {
      "text/html": [
       "<pre style=\"white-space:pre;overflow-x:auto;line-height:normal;font-family:Menlo,'DejaVu Sans Mono',consolas,'Courier New',monospace\"></pre>\n"
      ],
      "text/plain": []
     },
     "metadata": {},
     "output_type": "display_data"
    },
    {
     "data": {
      "text/html": [
       "<pre style=\"white-space:pre;overflow-x:auto;line-height:normal;font-family:Menlo,'DejaVu Sans Mono',consolas,'Courier New',monospace\"></pre>\n"
      ],
      "text/plain": []
     },
     "metadata": {},
     "output_type": "display_data"
    },
    {
     "data": {
      "text/html": [
       "<pre style=\"white-space:pre;overflow-x:auto;line-height:normal;font-family:Menlo,'DejaVu Sans Mono',consolas,'Courier New',monospace\"></pre>\n"
      ],
      "text/plain": []
     },
     "metadata": {},
     "output_type": "display_data"
    },
    {
     "data": {
      "text/html": [
       "<pre style=\"white-space:pre;overflow-x:auto;line-height:normal;font-family:Menlo,'DejaVu Sans Mono',consolas,'Courier New',monospace\"></pre>\n"
      ],
      "text/plain": []
     },
     "metadata": {},
     "output_type": "display_data"
    },
    {
     "data": {
      "text/html": [
       "<pre style=\"white-space:pre;overflow-x:auto;line-height:normal;font-family:Menlo,'DejaVu Sans Mono',consolas,'Courier New',monospace\"></pre>\n"
      ],
      "text/plain": []
     },
     "metadata": {},
     "output_type": "display_data"
    },
    {
     "data": {
      "text/plain": [
       "EvalPipelineResult(eval_results={'knowledge/world_knowledge': EvalResult(score=0.0, fail_rate=1.0, avg_runtime=0.0, avg_cost=0.0, avg_token_usage=0.0, eval_cost=0.0), 'knowledge/domain_specific_knowledge': EvalResult(score=0.0, fail_rate=1.0, avg_runtime=0.0, avg_cost=0.0, avg_token_usage=0.0, eval_cost=0.0), 'knowledge/web_retrieval': EvalResult(score=0.0, fail_rate=1.0, avg_runtime=0.0, avg_cost=0.0, avg_token_usage=0.0, eval_cost=0.0), 'reasoning/math': EvalResult(score=0.0, fail_rate=0.0, avg_runtime=62.28176689147949, avg_cost=0.1047, avg_token_usage=2692.0, eval_cost=0.018869999999999998), 'reasoning/coding': EvalResult(score=0.0, fail_rate=1.0, avg_runtime=0.0, avg_cost=0.0, avg_token_usage=0.0, eval_cost=0.0), 'reasoning/planning': EvalResult(score=0.0, fail_rate=1.0, avg_runtime=0.0, avg_cost=0.0, avg_token_usage=0.0, eval_cost=0.0), 'reasoning/commonsense': EvalResult(score=0.0, fail_rate=1.0, avg_runtime=0.0, avg_cost=0.0, avg_token_usage=0.0, eval_cost=0.0), 'safety/integrity': EvalResult(score=0.0, fail_rate=1.0, avg_runtime=0.0, avg_cost=0.0, avg_token_usage=0.0, eval_cost=0.0), 'safety/harmless': EvalResult(score=0.0, fail_rate=1.0, avg_runtime=0.0, avg_cost=0.0, avg_token_usage=0.0, eval_cost=0.0), 'multilingual/translation': EvalResult(score=0.0, fail_rate=0.0, avg_runtime=0.0, avg_cost=0.0, avg_token_usage=0.0, eval_cost=0.0), 'multilingual/understanding': EvalResult(score=0.0, fail_rate=0.0, avg_runtime=0.0, avg_cost=0.0, avg_token_usage=0.0, eval_cost=0.0), 'robustness/consistency': EvalResult(score=0.0, fail_rate=0.0, avg_runtime=0.0, avg_cost=0.0, avg_token_usage=0.0, eval_cost=0.0), 'robustness/resilience': EvalResult(score=0.0, fail_rate=0.0, avg_runtime=0.0, avg_cost=0.0, avg_token_usage=0.0, eval_cost=0.0)}, avg_score=0.0, avg_fail_rate=0.8888888888888891, avg_runtime=6.920196321275499, avg_cost=0.011633333333333334, avg_token_usage=299.1111111111111, total_eval_cost=0.018869999999999998)"
      ]
     },
     "execution_count": 5,
     "metadata": {},
     "output_type": "execute_result"
    }
   ],
   "source": [
    "ep = EvalPipeline(eval_config=\"../config/eval_config.yaml\")\n",
    "ep.run_eval(elon)"
   ]
  },
  {
   "cell_type": "code",
   "execution_count": 6,
   "id": "6ad1736d",
   "metadata": {},
   "outputs": [
    {
     "data": {
      "text/html": [
       "<pre style=\"white-space:pre;overflow-x:auto;line-height:normal;font-family:Menlo,'DejaVu Sans Mono',consolas,'Courier New',monospace\">Job Status: Status.STARTING eta: <span style=\"color: #800080; text-decoration-color: #800080; font-style: italic\">None</span>\n",
       "</pre>\n"
      ],
      "text/plain": [
       "Job Status: Status.STARTING eta: \u001b[3;35mNone\u001b[0m\n"
      ]
     },
     "metadata": {},
     "output_type": "display_data"
    },
    {
     "ename": "TypeError",
     "evalue": "_print_result() missing 1 required positional argument: 'result'",
     "output_type": "error",
     "traceback": [
      "\u001b[0;31m---------------------------------------------------------------------------\u001b[0m",
      "\u001b[0;31mTypeError\u001b[0m                                 Traceback (most recent call last)",
      "Cell \u001b[0;32mIn[6], line 1\u001b[0m\n\u001b[0;32m----> 1\u001b[0m \u001b[43mep\u001b[49m\u001b[38;5;241;43m.\u001b[39;49m\u001b[43m_print_result\u001b[49m\u001b[43m(\u001b[49m\u001b[43m)\u001b[49m\n",
      "\u001b[0;31mTypeError\u001b[0m: _print_result() missing 1 required positional argument: 'result'"
     ]
    }
   ],
   "source": [
    "ep._print_result()"
   ]
  },
  {
   "cell_type": "code",
   "execution_count": null,
   "id": "d6940e20",
   "metadata": {},
   "outputs": [],
   "source": []
  }
 ],
 "metadata": {
  "kernelspec": {
   "display_name": "Python 3 (ipykernel)",
   "language": "python",
   "name": "python3"
  },
  "language_info": {
   "codemirror_mode": {
    "name": "ipython",
    "version": 3
   },
   "file_extension": ".py",
   "mimetype": "text/x-python",
   "name": "python",
   "nbconvert_exporter": "python",
   "pygments_lexer": "ipython3",
   "version": "3.9.17"
  }
 },
 "nbformat": 4,
 "nbformat_minor": 5
}
